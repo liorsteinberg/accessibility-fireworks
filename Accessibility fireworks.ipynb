{
 "cells": [
  {
   "cell_type": "code",
   "execution_count": 50,
   "metadata": {},
   "outputs": [],
   "source": [
    "import geopandas as gpd\n",
    "import pandas as pd\n",
    "import matplotlib.pyplot as plt\n",
    "import networkx as nx\n",
    "import osmnx as ox\n",
    "from shapely.geometry import Point\n",
    "import pandana\n",
    "import contextily as ctx\n",
    "\n",
    "import warnings\n",
    "warnings.filterwarnings('ignore')\n",
    "\n",
    "import imageio\n",
    "import os"
   ]
  },
  {
   "cell_type": "markdown",
   "metadata": {},
   "source": [
    "# Set the variables for the current city"
   ]
  },
  {
   "cell_type": "code",
   "execution_count": 86,
   "metadata": {},
   "outputs": [],
   "source": [
    "place = 'Rotterdam, the Netherlands'\n",
    "minutes = 35\n",
    "walk_speed = 85 # meter/minute\n",
    "bike_speed = 250 # meter/minute = 15 km/h\n",
    "drive_speed = 416 # meter/minute = 25 km/h"
   ]
  },
  {
   "cell_type": "markdown",
   "metadata": {},
   "source": [
    "# Preparing the graphs (and GDFs) for walk, bike and drive networks"
   ]
  },
  {
   "cell_type": "code",
   "execution_count": 53,
   "metadata": {},
   "outputs": [],
   "source": [
    "graph_walk = ox.graph_from_address(place,network_type='walk',dist=minutes*bike_speed)\n",
    "graph_bike = ox.graph_from_address(place,network_type='bike',dist=minutes*bike_speed)\n",
    "graph_drive = ox.graph_from_address(place,network_type='drive',dist=minutes*bike_speed)"
   ]
  },
  {
   "cell_type": "code",
   "execution_count": 54,
   "metadata": {},
   "outputs": [],
   "source": [
    "nodes_walk,edges_walk =ox.utils_graph.graph_to_gdfs(graph_walk, nodes=True, edges=True, node_geometry=True, fill_edge_geometry=True)\n",
    "nodes_bike,edges_bike =ox.utils_graph.graph_to_gdfs(graph_bike, nodes=True, edges=True, node_geometry=True, fill_edge_geometry=True)\n",
    "nodes_drive,edges_drive =ox.utils_graph.graph_to_gdfs(graph_drive, nodes=True, edges=True, node_geometry=True, fill_edge_geometry=True)\n"
   ]
  },
  {
   "cell_type": "code",
   "execution_count": 87,
   "metadata": {},
   "outputs": [],
   "source": [
    "# Find the center nodes of the all \n",
    "\n",
    "minx = edges_walk.bounds.minx.min()\n",
    "miny = edges_walk.bounds.miny.min()\n",
    "maxy = edges_walk.bounds.maxy.max()\n",
    "maxx = edges_walk.bounds.maxx.max()\n",
    "\n",
    "center_node_walk = ox.get_nearest_node(graph_walk,((miny+maxy)/2,(minx+maxx)/2))\n",
    "center_node_bike = ox.get_nearest_node(graph_bike,((miny+maxy)/2,(minx+maxx)/2))\n",
    "center_node_drive = ox.get_nearest_node(graph_drive,((miny+maxy)/2,(minx+maxx)/2))"
   ]
  },
  {
   "cell_type": "markdown",
   "metadata": {},
   "source": [
    "# Calculating the used for each minute"
   ]
  },
  {
   "cell_type": "code",
   "execution_count": 59,
   "metadata": {},
   "outputs": [],
   "source": [
    "for u, v, k, data in graph_walk.edges(data=True, keys=True):\n",
    "    data['time'] = data['length'] / walk_speed\n",
    "\n",
    "for u, v, k, data in graph_bike.edges(data=True, keys=True):\n",
    "    data['time'] = data['length'] / bike_speed\n",
    "\n",
    "for u, v, k, data in graph_drive.edges(data=True, keys=True):\n",
    "    data['time'] = data['length'] / drive_speed\n"
   ]
  },
  {
   "cell_type": "markdown",
   "metadata": {},
   "source": [
    "### for each minute, creating a subgraph and saving only the new nodes (nodes that didn't appear in previous subgraphs)"
   ]
  },
  {
   "cell_type": "code",
   "execution_count": 88,
   "metadata": {},
   "outputs": [],
   "source": [
    "times = list(range(minutes))\n",
    "nodes_per_time_walk = []\n",
    "previous_nodes = []\n",
    "for time in times:\n",
    "    subgraph = nx.ego_graph(graph_walk, center_node_walk, radius=time,  distance='time')\n",
    "    current_nodes = list(subgraph.nodes)\n",
    "    new_nodes = [x for x in current_nodes if x not in previous_nodes]\n",
    "    nodes_per_time_walk.append(new_nodes)\n",
    "    previous_nodes = current_nodes\n",
    "    \n",
    "nodes_per_time_bike = []\n",
    "previous_nodes = []\n",
    "for time in times:\n",
    "    subgraph = nx.ego_graph(graph_bike, center_node_bike, radius=time,  distance='time')\n",
    "    current_nodes = list(subgraph.nodes)\n",
    "    new_nodes = [x for x in current_nodes if x not in previous_nodes]\n",
    "    nodes_per_time_bike.append(new_nodes)\n",
    "    previous_nodes = current_nodes\n",
    "    \n",
    "nodes_per_time_drive = []\n",
    "previous_nodes = []\n",
    "for time in times:\n",
    "    subgraph = nx.ego_graph(graph_drive, center_node_drive, radius=time,  distance='time')\n",
    "    current_nodes = list(subgraph.nodes)\n",
    "    new_nodes = [x for x in current_nodes if x not in previous_nodes]\n",
    "    nodes_per_time_drive.append(new_nodes)\n",
    "    previous_nodes = current_nodes"
   ]
  },
  {
   "cell_type": "markdown",
   "metadata": {},
   "source": [
    "# Creating an image for each minute"
   ]
  },
  {
   "cell_type": "code",
   "execution_count": 89,
   "metadata": {},
   "outputs": [],
   "source": [
    "minx_3857 = edges_walk.to_crs('epsg:3857').bounds.minx.min()\n",
    "miny_3857 = edges_walk.to_crs('epsg:3857').bounds.miny.min()\n",
    "maxy_3857 = edges_walk.to_crs('epsg:3857').bounds.maxy.max()\n",
    "maxx_3857 = edges_walk.to_crs('epsg:3857').bounds.maxx.max()\n"
   ]
  },
  {
   "cell_type": "code",
   "execution_count": 90,
   "metadata": {},
   "outputs": [],
   "source": [
    "images = []\n",
    "for current_nodes_walk,current_nodes_bike,current_nodes_drive,time in zip(nodes_per_time_walk,nodes_per_time_bike,nodes_per_time_drive,times):\n",
    "\n",
    "    fig, ax = plt.subplots(figsize=(12,8))\n",
    "    \n",
    "    plt.ioff()\n",
    "\n",
    "    if current_nodes_walk:\n",
    "        nodes_walk[nodes_walk.index.isin(current_nodes_walk)].to_crs('epsg:3857').plot(ax=ax,color=\"green\")\n",
    "    if current_nodes_bike:\n",
    "        nodes_bike[nodes_bike.index.isin(current_nodes_bike)].to_crs('epsg:3857').plot(ax=ax,color=\"blue\")\n",
    "    if current_nodes_drive:\n",
    "        nodes_drive[nodes_drive.index.isin(current_nodes_drive)].to_crs('epsg:3857').plot(ax=ax,color=\"red\")\n",
    "    ax.set_xlim(minx_3857, maxx_3857)\n",
    "    ax.set_ylim(miny_3857, maxy_3857)\n",
    "    \n",
    "    ctx.add_basemap(ax,url=ctx.providers.CartoDB.DarkMatter)#PositronNoLabels)\n",
    "    \n",
    "    current_image_name = place+str(time)+\".jpg\"\n",
    "    images.append(current_image_name)\n",
    "    \n",
    "    plt.savefig(current_image_name)\n",
    "    \n",
    "    plt.close()"
   ]
  },
  {
   "cell_type": "markdown",
   "metadata": {},
   "source": [
    "# Creating a GIF and deleting all temporary files"
   ]
  },
  {
   "cell_type": "code",
   "execution_count": 91,
   "metadata": {},
   "outputs": [],
   "source": [
    "\n",
    "with imageio.get_writer(place+'.gif', mode='I') as writer:\n",
    "    for f in images:\n",
    "        image = imageio.imread(filename)\n",
    "        writer.append_data(image)\n",
    "writer.close()"
   ]
  },
  {
   "cell_type": "code",
   "execution_count": 92,
   "metadata": {},
   "outputs": [],
   "source": [
    "\n",
    "for f in images:\n",
    "    os.remove(f)\n"
   ]
  }
 ],
 "metadata": {
  "kernelspec": {
   "display_name": "Python 3",
   "language": "python",
   "name": "python3"
  },
  "language_info": {
   "codemirror_mode": {
    "name": "ipython",
    "version": 3
   },
   "file_extension": ".py",
   "mimetype": "text/x-python",
   "name": "python",
   "nbconvert_exporter": "python",
   "pygments_lexer": "ipython3",
   "version": "3.7.9"
  }
 },
 "nbformat": 4,
 "nbformat_minor": 4
}
